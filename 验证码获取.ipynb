{
 "cells": [
  {
   "cell_type": "code",
   "execution_count": 2,
   "metadata": {},
   "outputs": [],
   "source": [
    "import requests\n",
    "from lxml import etree"
   ]
  },
  {
   "cell_type": "code",
   "execution_count": 1,
   "metadata": {},
   "outputs": [],
   "source": [
    "headers = {\"User-Agent\": \"Mozilla/5.0 (Windows NT 6.1; WOW64) AppleWebKit/537.36 (KHTML, like Gecko) Chrome/78.0.3904.70 Safari/537.36\"}"
   ]
  },
  {
   "cell_type": "code",
   "execution_count": 8,
   "metadata": {},
   "outputs": [
    {
     "name": "stdout",
     "output_type": "stream",
     "text": [
      "{'err_no': 0, 'err_str': 'OK', 'pic_id': '2088316193358300001', 'pic_str': '7261', 'md5': '45b3a7e86b76348b15c1a89cec7edcb1'}\n"
     ]
    }
   ],
   "source": [
    "from hashlib import md5\n",
    "\n",
    "class Chaojiying_Client(object):\n",
    "\n",
    "    def __init__(self, username, password, soft_id):\n",
    "        self.username = username\n",
    "        password = password.encode('utf8')\n",
    "        self.password = md5(password).hexdigest()\n",
    "        self.soft_id = soft_id\n",
    "        self.base_params = {\n",
    "            'user': self.username,\n",
    "            'pass2': self.password,\n",
    "            'softid': self.soft_id,\n",
    "        }\n",
    "        self.headers = {\n",
    "            'Connection': 'Keep-Alive',\n",
    "            'User-Agent': 'Mozilla/4.0 (compatible; MSIE 8.0; Windows NT 5.1; Trident/4.0)',\n",
    "        }\n",
    "\n",
    "    def PostPic(self, im, codetype):\n",
    "        \"\"\"\n",
    "        im: 图片字节\n",
    "        codetype: 题目类型 参考 http://www.chaojiying.com/price.html\n",
    "        \"\"\"\n",
    "        params = {\n",
    "            'codetype': codetype,\n",
    "        }\n",
    "        params.update(self.base_params)\n",
    "        files = {'userfile': ('ccc.jpg', im)}\n",
    "        r = requests.post('http://upload.chaojiying.net/Upload/Processing.php', data=params, files=files, headers=self.headers)\n",
    "        return r.json()\n",
    "\n",
    "    def ReportError(self, im_id):\n",
    "        \"\"\"\n",
    "        im_id:报错题目的图片ID\n",
    "        \"\"\"\n",
    "        params = {\n",
    "            'id': im_id,\n",
    "        }\n",
    "        params.update(self.base_params)\n",
    "        r = requests.post('http://upload.chaojiying.net/Upload/ReportError.php', data=params, headers=self.headers)\n",
    "        return r.json()\n",
    "\n",
    "\n",
    "\n",
    "chaojiying = Chaojiying_Client('fan1996', '19960919', '\t902601')\t#用户中心>>软件ID 生成一个替换 96001\n",
    "im = open('a.jpg', 'rb').read()\t\t\t\t\t\t\t\t\t\t\t\t\t#本地图片文件路径 来替换 a.jpg 有时WIN系统须要//\n",
    "print (chaojiying.PostPic(im, 1004))\t\t\t\t\t\t\t\t\t\t\t\t#1902 验证码类型  官方网站>>价格体系 3.4+版 print 后要加()\n"
   ]
  },
  {
   "cell_type": "code",
   "execution_count": 13,
   "metadata": {},
   "outputs": [],
   "source": [
    "def get_img_text(img_path,img_type):\n",
    "    chaojiying = Chaojiying_Client('fan1996', '19960919', '\t902601')\n",
    "    im = open(img_path, 'rb').read()\n",
    "    return chaojiying.PostPic(im, img_type)[\"pic_str\"]"
   ]
  },
  {
   "cell_type": "markdown",
   "metadata": {},
   "source": [
    "获取古诗文网的验证码图片"
   ]
  },
  {
   "cell_type": "code",
   "execution_count": 14,
   "metadata": {},
   "outputs": [
    {
     "name": "stdout",
     "output_type": "stream",
     "text": [
      "0g53\n"
     ]
    }
   ],
   "source": [
    "url = \"https://so.gushiwen.org/user/login.aspx?from=http://so.gushiwen.org/user/collect.aspx\"\n",
    "page_text = requests.get(url= url,headers = headers).text\n",
    "tree = etree.HTML(page_text)\n",
    "img_src = \"https://so.gushiwen.org\"+tree.xpath(\"//div[@class = 'mainreg2']/div[4]/img/@src\")[0]\n",
    "img = requests.get(img_src,headers=headers).content\n",
    "with open(\"./gushiwen.jpg\",\"wb\")as fp:\n",
    "    fp.write(img)\n",
    "img_text = get_img_text(\"./gushiwen.jpg\",1004)\n",
    "print(img_text)"
   ]
  },
  {
   "cell_type": "code",
   "execution_count": null,
   "metadata": {},
   "outputs": [],
   "source": []
  },
  {
   "cell_type": "code",
   "execution_count": null,
   "metadata": {},
   "outputs": [],
   "source": []
  }
 ],
 "metadata": {
  "kernelspec": {
   "display_name": "Python 3",
   "language": "python",
   "name": "python3"
  },
  "language_info": {
   "codemirror_mode": {
    "name": "ipython",
    "version": 3
   },
   "file_extension": ".py",
   "mimetype": "text/x-python",
   "name": "python",
   "nbconvert_exporter": "python",
   "pygments_lexer": "ipython3",
   "version": "3.7.4"
  }
 },
 "nbformat": 4,
 "nbformat_minor": 2
}
